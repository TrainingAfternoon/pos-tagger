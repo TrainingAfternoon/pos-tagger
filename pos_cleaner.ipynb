{
 "cells": [
  {
   "cell_type": "markdown",
   "metadata": {},
   "source": [
    "### Data Cleaning for POS Tagging"
   ]
  },
  {
   "cell_type": "code",
   "execution_count": null,
   "metadata": {},
   "outputs": [],
   "source": [
    "import numpy as np\n",
    "import pandas as pd\n",
    "import re\n",
    "\n",
    "from nltk.corpus import stopwords\n",
    "from nltk.stem.porter import *\n",
    "\n",
    "stop = stopwords.words(\"english\")\n"
   ]
  },
  {
   "cell_type": "code",
   "execution_count": null,
   "metadata": {},
   "outputs": [],
   "source": [
    "def clean_stopwords(df: pd.DataFrame, col_name: str, additional_stopwords: list):\n",
    "    full_stop = stop + additional_stopwords\n",
    "    df[col_name] = df[col_name].apply(lambda x: ' '.join([word for word in x.split() if word not in stop]))"
   ]
  },
  {
   "cell_type": "code",
   "execution_count": null,
   "metadata": {},
   "outputs": [],
   "source": [
    "# From: https://medium.com/nerd-stuff/python-script-to-turn-text-message-abbreviations-into-actual-phrases-d5db6f489222\n",
    "def translator_str(in_str: str, filepath: str):\n",
    "    in_str = re.sub('[^a-zA-Z0-9-_.]', '', in_str)\n",
    "    return in_str\n",
    "\n",
    "def translator_df(df: pd.DataFrame, col_name: str, filepath:str):\n",
    "    df[col_name] = df[col_name].apply(lambda x: ' '.join([translator_str(word, filepath) for word in x.split()]))\n",
    "    return df\n",
    "\n"
   ]
  },
  {
   "cell_type": "code",
   "execution_count": null,
   "metadata": {},
   "outputs": [],
   "source": [
    "def clean_stem(df: pd.DataFrame, col_name: str):\n",
    "    ps = PorterStemmer()\n",
    "    df[col_name] = df[col_name].apply(lambda x:  ' '.join([ps.stem(word) for word in x.split() ]))\n",
    "    return df\n",
    "    "
   ]
  }
 ],
 "metadata": {
  "language_info": {
   "name": "python"
  },
  "orig_nbformat": 4
 },
 "nbformat": 4,
 "nbformat_minor": 2
}
